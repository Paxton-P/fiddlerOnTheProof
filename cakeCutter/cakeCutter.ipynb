{
 "cells": [
  {
   "cell_type": "code",
   "execution_count": 1,
   "metadata": {},
   "outputs": [],
   "source": [
    "import tkinter\n",
    "import numpy as np"
   ]
  },
  {
   "cell_type": "code",
   "execution_count": 30,
   "metadata": {},
   "outputs": [],
   "source": [
    "# Slice origin point\n",
    "center_point = np.matrix([5,5]).T\n",
    "\n",
    "# Slice angles\n",
    "theta1 = np.pi\n",
    "theta2 = np.pi / 2\n",
    "theta3 = np.pi / 1.3\n",
    "\n",
    "# Slices must be longer than 500^.5. Slices creater by rotating starter\n",
    "slice_starter = np.matrix([30, 0]).T\n",
    "\n",
    "# Creates a rotation matrix from a given theta\n",
    "rotate_mat = lambda theta : np.matrix([[np.cos(theta), -np.sin(theta)], [np.sin(theta), np.cos(theta)]]) \n",
    "# Creates slice vector\n",
    "get_slice = lambda theta : rotate_mat(theta) * slice_starter + center_point\n",
    "\n",
    "# Create the slices\n",
    "slice1 = get_slice(theta1)\n",
    "slice2 = get_slice(theta2)\n",
    "slice3 = get_slice(theta3)\n",
    "\n",
    "# Corners of the cake\n",
    "upper_left  = np.matrix([0,10]).T\n",
    "upper_right = np.matrix([20,10]).T\n",
    "lower_left  = np.matrix([0,0]).T\n",
    "lower_right = np.matrix([20,0]).T\n",
    "\n",
    "# Scaling and shifting is done for visualization purposes. tkiniter has an inverse y axis\n",
    "scale_factor = np.matrix([[1,0],[0,-1]])\n",
    "scale_factor *= 5\n",
    "shift = np.matrix([100, 100]).T\n",
    "\n",
    "# Transforms points to graphics space\n",
    "graphics_transform = lambda point : scale_factor * point + shift\n",
    "\n",
    "# Transform all points and draw lines\n",
    "center_point_g = graphics_transform(center_point)\n",
    "\n",
    "slice1_g = graphics_transform(slice1)\n",
    "slice2_g = graphics_transform(slice2)\n",
    "slice3_g = graphics_transform(slice3)\n",
    "\n",
    "upper_left_g = graphics_transform(upper_left)\n",
    "upper_right_g = graphics_transform(upper_right)\n",
    "lower_left_g = graphics_transform(lower_left)\n",
    "lower_right_g = graphics_transform(lower_right)\n",
    "\n",
    "window = tkinter.Tk()\n",
    "canva = tkinter.Canvas(window)\n",
    "\n",
    "line = canva.create_line(*center_point_g.T.tolist()[0], *slice1_g.T.tolist()[0])\n",
    "line = canva.create_line(*center_point_g.T.tolist()[0], *slice2_g.T.tolist()[0])\n",
    "line = canva.create_line(*center_point_g.T.tolist()[0], *slice3_g.T.tolist()[0])\n",
    "\n",
    "line = canva.create_line(*upper_left_g.T.tolist()[0], *upper_right_g.T.tolist()[0])\n",
    "line = canva.create_line(*upper_left_g.T.tolist()[0], *lower_left_g.T.tolist()[0])\n",
    "line = canva.create_line(*lower_left_g.T.tolist()[0], *lower_right_g.T.tolist()[0])\n",
    "line = canva.create_line(*lower_right_g.T.tolist()[0], *upper_right_g.T.tolist()[0])\n",
    "\n",
    "canva.pack()\n",
    "window.mainloop()"
   ]
  }
 ],
 "metadata": {
  "kernelspec": {
   "display_name": "Python 3",
   "language": "python",
   "name": "python3"
  },
  "language_info": {
   "codemirror_mode": {
    "name": "ipython",
    "version": 3
   },
   "file_extension": ".py",
   "mimetype": "text/x-python",
   "name": "python",
   "nbconvert_exporter": "python",
   "pygments_lexer": "ipython3",
   "version": "3.12.2"
  }
 },
 "nbformat": 4,
 "nbformat_minor": 2
}
