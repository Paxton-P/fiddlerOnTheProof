{
 "cells": [
  {
   "cell_type": "code",
   "execution_count": 1,
   "metadata": {},
   "outputs": [],
   "source": [
    "import tkinter\n",
    "import numpy as np"
   ]
  },
  {
   "cell_type": "code",
   "execution_count": 11,
   "metadata": {},
   "outputs": [
    {
     "name": "stdout",
     "output_type": "stream",
     "text": [
      "[100, 50]\n"
     ]
    }
   ],
   "source": [
    "ceneter_point = np.array([5,5]).T\n",
    "\n",
    "upper_left  = np.array([0,10]).T\n",
    "upper_right = np.array([20,10]).T\n",
    "lower_left  = np.array([0,0]).T\n",
    "lower_right = np.array([20,0]).T\n",
    "\n",
    "scale_factor = np.matrix([[1,0],[0,-1]])\n",
    "scale_factor *= 5\n",
    "\n",
    "shift = np.array([100, 100]).T\n",
    "\n",
    "upper_left = upper_left * scale_factor + shift\n",
    "upper_right = upper_right * scale_factor + shift\n",
    "lower_left = lower_left * scale_factor + shift\n",
    "lower_right = lower_right * scale_factor + shift\n",
    "\n",
    "window = tkinter.Tk()\n",
    "canva = tkinter.Canvas(window)\n",
    "\n",
    "line = canva.create_line(*upper_left.tolist()[0], *upper_right.tolist()[0])\n",
    "line = canva.create_line(*upper_left.tolist()[0], *lower_left.tolist()[0])\n",
    "line = canva.create_line(*lower_left.tolist()[0], *lower_right.tolist()[0])\n",
    "line = canva.create_line(*lower_right.tolist()[0], *upper_right.tolist()[0])\n",
    "\n",
    "canva.pack()\n",
    "window.mainloop()"
   ]
  }
 ],
 "metadata": {
  "kernelspec": {
   "display_name": "Python 3",
   "language": "python",
   "name": "python3"
  },
  "language_info": {
   "codemirror_mode": {
    "name": "ipython",
    "version": 3
   },
   "file_extension": ".py",
   "mimetype": "text/x-python",
   "name": "python",
   "nbconvert_exporter": "python",
   "pygments_lexer": "ipython3",
   "version": "3.12.2"
  }
 },
 "nbformat": 4,
 "nbformat_minor": 2
}
