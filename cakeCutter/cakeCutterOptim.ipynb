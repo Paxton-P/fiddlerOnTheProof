{
 "cells": [
  {
   "cell_type": "code",
   "execution_count": 2,
   "metadata": {},
   "outputs": [],
   "source": [
    "import tkinter\n",
    "import numpy as np\n",
    "import torch"
   ]
  },
  {
   "cell_type": "code",
   "execution_count": 9,
   "metadata": {},
   "outputs": [],
   "source": [
    "# Slice origin point\n",
    "# center_point = np.matrix([5,5]).T\n",
    "center_point = torch.tensor([[5],[5]])\n",
    "\n",
    "# Slice angles\n",
    "# theta1 = 3* np.pi / 2\n",
    "# theta2 = 3.9* np.pi / 2\n",
    "# theta3 = np.pi / 1.3\n",
    "theta1 = torch.tensor(3 * np.pi / 2, requires_grad=True)\n",
    "theta2 = torch.tensor(3.9 * np.pi / 2, requires_grad=True)\n",
    "theta3 = torch.tensor(np.pi / 1.3, requires_grad=True)\n",
    "\n",
    "# origin = np.matrix([0,0]).T\n",
    "origin = torch.tensor([[0],[0]])\n",
    "\n",
    "# Slices must be longer than 500^.5. Slices creater by rotating starter\n",
    "# slice_starter = np.matrix([30, 0]).T\n",
    "\n",
    "# # Creates a rotation matrix from a given theta\n",
    "# rotate_mat = lambda theta : np.matrix([[np.cos(theta), -np.sin(theta)], [np.sin(theta), np.cos(theta)]]) \n",
    "# # Creates slice vector\n",
    "# get_slice = lambda theta : rotate_mat(theta) * slice_starter + center_point\n",
    "\n",
    "# # Create the slices\n",
    "# slice1 = get_slice(theta1)\n",
    "# slice2 = get_slice(theta2)\n",
    "# slice3 = get_slice(theta3)\n",
    "\n",
    "# # Corners of the cake\n",
    "# upper_left  = np.matrix([0,10]).T\n",
    "# upper_right = np.matrix([20,10]).T\n",
    "# lower_left  = np.matrix([0,0]).T\n",
    "# lower_right = np.matrix([20,0]).T"
   ]
  },
  {
   "cell_type": "code",
   "execution_count": 3,
   "metadata": {},
   "outputs": [],
   "source": [
    "def find_slice_intersection(slice, center_point, vec2, shift2):\n",
    "    vec1 = (slice - center_point).T\n",
    "    vec2 = vec2.T\n",
    "    shift1 = center_point.T\n",
    "    shift2 = shift2.T\n",
    "\n",
    "    t = np.cross((shift2 - shift1), vec2) / np.cross(vec1, vec2)\n",
    "    u = np.cross((shift2 - shift1), vec1) / np.cross(vec1, vec2)\n",
    "\n",
    "    if np.abs(np.cross(vec1, vec2)) < 1e-10:\n",
    "        # The lines are parallel\n",
    "        return False\n",
    "    elif t > 0 and t < 1 and u > 0 and u < 1:\n",
    "        # The lines intersect\n",
    "        return (t*vec1 + shift1).T\n",
    "    else:\n",
    "        # The lines do not intersect\n",
    "        return False\n",
    "    \n",
    "def get_intersection_point(slice, center_point):\n",
    "    intersection_top = find_slice_intersection(slice, center_point, lower_right, upper_left)\n",
    "    intersection_left = find_slice_intersection(slice, center_point, upper_left, origin)\n",
    "    intersection_right = find_slice_intersection(slice, center_point, upper_left, lower_right)\n",
    "    intersection_bottom = find_slice_intersection(slice, center_point, lower_right, origin)\n",
    "\n",
    "    # Hopefully this doen't break\n",
    "    if intersection_top is not False:\n",
    "        return intersection_top\n",
    "    elif intersection_left is not False:\n",
    "        return intersection_left\n",
    "    elif intersection_right is not False:\n",
    "        return intersection_right\n",
    "    elif intersection_bottom is not False: \n",
    "        return intersection_bottom\n",
    "    else:\n",
    "        return False"
   ]
  },
  {
   "cell_type": "code",
   "execution_count": 20,
   "metadata": {},
   "outputs": [
    {
     "name": "stdout",
     "output_type": "stream",
     "text": [
      "[ 9.42961347 37.3757666  55.        ]\n"
     ]
    },
    {
     "data": {
      "text/plain": [
       "array([27.94615314, 17.6242334 , 14.42961347])"
      ]
     },
     "execution_count": 20,
     "metadata": {},
     "output_type": "execute_result"
    }
   ],
   "source": [
    "slice1_intersection = get_intersection_point(slice1, center_point)\n",
    "slice2_intersection = get_intersection_point(slice2, center_point)\n",
    "slice3_intersection = get_intersection_point(slice3, center_point)\n",
    "\n",
    "def get_slice_perimeters(slice1_intersection, slice2_intersection, slice3_intersection):\n",
    "    perims = np.zeros(3)\n",
    "\n",
    "    slice1_trav_dist = get_traversal_distance(slice1_intersection)\n",
    "    slice2_trav_dist = get_traversal_distance(slice2_intersection)\n",
    "    slice3_trav_dist = get_traversal_distance(slice3_intersection)\n",
    "\n",
    "    traversal_dists = np.sort([slice1_trav_dist, slice2_trav_dist, slice3_trav_dist])\n",
    "\n",
    "    print(traversal_dists)\n",
    "    perims = np.array([traversal_dists[1] - traversal_dists[0],\n",
    "                       traversal_dists[2] - traversal_dists[1],\n",
    "                       60 - traversal_dists[2] + traversal_dists[0]])\n",
    "    \n",
    "    return perims\n",
    "\n",
    "\n",
    "# Returns the amount of distance that you would need to travel when starting at (0,0) and \n",
    "# traversing clockwise around the cake until you reach the intersection point\n",
    "def get_traversal_distance(slice_intersection):\n",
    "    if slice_intersection[0,0] == 0:\n",
    "        # Intersection is on the left side of the rectangle\n",
    "        return slice_intersection[1,0]\n",
    "    elif slice_intersection[1,0] == 10:\n",
    "        # Intersection is on the top of the rectangle\n",
    "        return 10 + slice_intersection[0,0]\n",
    "    elif slice_intersection[0,0] == 20:\n",
    "        # Intersection is on the right side of the rectangle\n",
    "        return 30 + (10 - slice_intersection[1,0])\n",
    "    else:\n",
    "        # Intersection is on the bottom of the rectangle\n",
    "        return 40 + (20 - slice_intersection[0,0])"
   ]
  },
  {
   "cell_type": "code",
   "execution_count": 14,
   "metadata": {},
   "outputs": [],
   "source": [
    "# Scaling and shifting is done for visualization purposes. tkiniter has an inverse y axis\n",
    "scale_factor = np.matrix([[1,0],[0,-1]])\n",
    "scale_factor *= 5\n",
    "shift = np.matrix([100, 100]).T\n",
    "\n",
    "# Transforms points to graphics space\n",
    "graphics_transform = lambda point : scale_factor * point + shift\n",
    "\n",
    "# Transform all points and draw lines\n",
    "center_point_g = graphics_transform(center_point)\n",
    "\n",
    "slice1_g = graphics_transform(slice1)\n",
    "slice2_g = graphics_transform(slice2)\n",
    "slice3_g = graphics_transform(slice3)\n",
    "\n",
    "upper_left_g = graphics_transform(upper_left)\n",
    "upper_right_g = graphics_transform(upper_right)\n",
    "lower_left_g = graphics_transform(lower_left)\n",
    "lower_right_g = graphics_transform(lower_right)\n",
    "\n",
    "window = tkinter.Tk()\n",
    "canva = tkinter.Canvas(window)\n",
    "\n",
    "line = canva.create_line(*center_point_g.T.tolist()[0], *slice1_g.T.tolist()[0])\n",
    "line = canva.create_line(*center_point_g.T.tolist()[0], *slice2_g.T.tolist()[0])\n",
    "line = canva.create_line(*center_point_g.T.tolist()[0], *slice3_g.T.tolist()[0])\n",
    "\n",
    "line = canva.create_line(*upper_left_g.T.tolist()[0], *upper_right_g.T.tolist()[0])\n",
    "line = canva.create_line(*upper_left_g.T.tolist()[0], *lower_left_g.T.tolist()[0])\n",
    "line = canva.create_line(*lower_left_g.T.tolist()[0], *lower_right_g.T.tolist()[0])\n",
    "line = canva.create_line(*lower_right_g.T.tolist()[0], *upper_right_g.T.tolist()[0])\n",
    "\n",
    "canva.pack()\n",
    "window.mainloop()"
   ]
  }
 ],
 "metadata": {
  "kernelspec": {
   "display_name": "Python 3",
   "language": "python",
   "name": "python3"
  },
  "language_info": {
   "codemirror_mode": {
    "name": "ipython",
    "version": 3
   },
   "file_extension": ".py",
   "mimetype": "text/x-python",
   "name": "python",
   "nbconvert_exporter": "python",
   "pygments_lexer": "ipython3",
   "version": "3.12.2"
  }
 },
 "nbformat": 4,
 "nbformat_minor": 2
}
