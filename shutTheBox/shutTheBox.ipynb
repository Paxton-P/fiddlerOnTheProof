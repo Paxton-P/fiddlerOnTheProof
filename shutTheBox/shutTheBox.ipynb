{
 "cells": [
  {
   "cell_type": "code",
   "execution_count": 26,
   "metadata": {},
   "outputs": [],
   "source": [
    "import numpy as np"
   ]
  },
  {
   "cell_type": "code",
   "execution_count": 27,
   "metadata": {},
   "outputs": [],
   "source": [
    "numTiles = 6\n",
    "\n",
    "stateSpaces = np.zeros([2**numTiles, numTiles])\n",
    "\n",
    "for i in range(len(stateSpaces)):\n",
    "    currentNum = i\n",
    "    for j in range(1,6)[::-1]:\n",
    "        divisor = 2**(-j + 6)\n",
    "        remainder = currentNum % 2**(-j + 6)\n",
    "        stateSpaces[i,j] = remainder != 0\n",
    "        currentNum = currentNum - remainder\n",
    "    if currentNum == 32:\n",
    "        stateSpaces[i,0] = 1"
   ]
  },
  {
   "cell_type": "code",
   "execution_count": 29,
   "metadata": {},
   "outputs": [
    {
     "data": {
      "text/plain": [
       "array([[0., 0., 0., 0., 0., 0.],\n",
       "       [0., 0., 0., 0., 0., 1.],\n",
       "       [0., 0., 0., 0., 1., 0.],\n",
       "       [0., 0., 0., 0., 1., 1.],\n",
       "       [0., 0., 0., 1., 0., 0.],\n",
       "       [0., 0., 0., 1., 0., 1.],\n",
       "       [0., 0., 0., 1., 1., 0.],\n",
       "       [0., 0., 0., 1., 1., 1.],\n",
       "       [0., 0., 1., 0., 0., 0.],\n",
       "       [0., 0., 1., 0., 0., 1.],\n",
       "       [0., 0., 1., 0., 1., 0.],\n",
       "       [0., 0., 1., 0., 1., 1.],\n",
       "       [0., 0., 1., 1., 0., 0.],\n",
       "       [0., 0., 1., 1., 0., 1.],\n",
       "       [0., 0., 1., 1., 1., 0.],\n",
       "       [0., 0., 1., 1., 1., 1.],\n",
       "       [0., 1., 0., 0., 0., 0.],\n",
       "       [0., 1., 0., 0., 0., 1.],\n",
       "       [0., 1., 0., 0., 1., 0.],\n",
       "       [0., 1., 0., 0., 1., 1.],\n",
       "       [0., 1., 0., 1., 0., 0.],\n",
       "       [0., 1., 0., 1., 0., 1.],\n",
       "       [0., 1., 0., 1., 1., 0.],\n",
       "       [0., 1., 0., 1., 1., 1.],\n",
       "       [0., 1., 1., 0., 0., 0.],\n",
       "       [0., 1., 1., 0., 0., 1.],\n",
       "       [0., 1., 1., 0., 1., 0.],\n",
       "       [0., 1., 1., 0., 1., 1.],\n",
       "       [0., 1., 1., 1., 0., 0.],\n",
       "       [0., 1., 1., 1., 0., 1.],\n",
       "       [0., 1., 1., 1., 1., 0.],\n",
       "       [0., 1., 1., 1., 1., 1.],\n",
       "       [1., 0., 0., 0., 0., 0.],\n",
       "       [1., 0., 0., 0., 0., 1.],\n",
       "       [1., 0., 0., 0., 1., 0.],\n",
       "       [1., 0., 0., 0., 1., 1.],\n",
       "       [1., 0., 0., 1., 0., 0.],\n",
       "       [1., 0., 0., 1., 0., 1.],\n",
       "       [1., 0., 0., 1., 1., 0.],\n",
       "       [1., 0., 0., 1., 1., 1.],\n",
       "       [1., 0., 1., 0., 0., 0.],\n",
       "       [1., 0., 1., 0., 0., 1.],\n",
       "       [1., 0., 1., 0., 1., 0.],\n",
       "       [1., 0., 1., 0., 1., 1.],\n",
       "       [1., 0., 1., 1., 0., 0.],\n",
       "       [1., 0., 1., 1., 0., 1.],\n",
       "       [1., 0., 1., 1., 1., 0.],\n",
       "       [1., 0., 1., 1., 1., 1.],\n",
       "       [1., 1., 0., 0., 0., 0.],\n",
       "       [1., 1., 0., 0., 0., 1.],\n",
       "       [1., 1., 0., 0., 1., 0.],\n",
       "       [1., 1., 0., 0., 1., 1.],\n",
       "       [1., 1., 0., 1., 0., 0.],\n",
       "       [1., 1., 0., 1., 0., 1.],\n",
       "       [1., 1., 0., 1., 1., 0.],\n",
       "       [1., 1., 0., 1., 1., 1.],\n",
       "       [1., 1., 1., 0., 0., 0.],\n",
       "       [1., 1., 1., 0., 0., 1.],\n",
       "       [1., 1., 1., 0., 1., 0.],\n",
       "       [1., 1., 1., 0., 1., 1.],\n",
       "       [1., 1., 1., 1., 0., 0.],\n",
       "       [1., 1., 1., 1., 0., 1.],\n",
       "       [1., 1., 1., 1., 1., 0.],\n",
       "       [1., 1., 1., 1., 1., 1.]])"
      ]
     },
     "execution_count": 29,
     "metadata": {},
     "output_type": "execute_result"
    }
   ],
   "source": [
    "stateSpaces"
   ]
  },
  {
   "cell_type": "code",
   "execution_count": 38,
   "metadata": {},
   "outputs": [
    {
     "ename": "TypeError",
     "evalue": "only integer scalar arrays can be converted to a scalar index",
     "output_type": "error",
     "traceback": [
      "\u001b[1;31m---------------------------------------------------------------------------\u001b[0m",
      "\u001b[1;31mTypeError\u001b[0m                                 Traceback (most recent call last)",
      "Cell \u001b[1;32mIn[38], line 20\u001b[0m\n\u001b[0;32m     16\u001b[0m                 validMove[flipIdx \u001b[38;5;241m-\u001b[39m \u001b[38;5;241m1\u001b[39m] \u001b[38;5;241m=\u001b[39m \u001b[38;5;241m0\u001b[39m\n\u001b[0;32m     17\u001b[0m             validMoves \u001b[38;5;241m+\u001b[39m\u001b[38;5;241m=\u001b[39m validMove\n\u001b[1;32m---> 20\u001b[0m \u001b[43mgetValidNextStates\u001b[49m\u001b[43m(\u001b[49m\u001b[43m[\u001b[49m\u001b[38;5;241;43m1\u001b[39;49m\u001b[43m,\u001b[49m\u001b[43m \u001b[49m\u001b[38;5;241;43m1\u001b[39;49m\u001b[43m,\u001b[49m\u001b[43m \u001b[49m\u001b[38;5;241;43m1\u001b[39;49m\u001b[43m,\u001b[49m\u001b[43m \u001b[49m\u001b[38;5;241;43m1\u001b[39;49m\u001b[43m,\u001b[49m\u001b[43m \u001b[49m\u001b[38;5;241;43m1\u001b[39;49m\u001b[43m,\u001b[49m\u001b[43m \u001b[49m\u001b[38;5;241;43m1\u001b[39;49m\u001b[43m]\u001b[49m\u001b[43m,\u001b[49m\u001b[43m \u001b[49m\u001b[38;5;241;43m2\u001b[39;49m\u001b[43m)\u001b[49m        \n\u001b[0;32m     21\u001b[0m \u001b[38;5;66;03m# validMoves[2]\u001b[39;00m\n",
      "Cell \u001b[1;32mIn[38], line 13\u001b[0m, in \u001b[0;36mgetValidNextStates\u001b[1;34m(currentState, diceRoll)\u001b[0m\n\u001b[0;32m     11\u001b[0m validMoves \u001b[38;5;241m=\u001b[39m []\n\u001b[0;32m     12\u001b[0m \u001b[38;5;28;01mfor\u001b[39;00m move \u001b[38;5;129;01min\u001b[39;00m possibleMoves[diceRoll]:\n\u001b[1;32m---> 13\u001b[0m     \u001b[38;5;28;01mif\u001b[39;00m \u001b[38;5;28msum\u001b[39m(\u001b[43mcurrentState\u001b[49m\u001b[43m[\u001b[49m\u001b[43mmove\u001b[49m\u001b[43m \u001b[49m\u001b[38;5;241;43m-\u001b[39;49m\u001b[43m \u001b[49m\u001b[38;5;241;43m1\u001b[39;49m\u001b[43m]\u001b[49m) \u001b[38;5;241m==\u001b[39m \u001b[38;5;28mlen\u001b[39m(move):\n\u001b[0;32m     14\u001b[0m         validMove \u001b[38;5;241m=\u001b[39m currentState\n\u001b[0;32m     15\u001b[0m         \u001b[38;5;28;01mfor\u001b[39;00m flipIdx \u001b[38;5;129;01min\u001b[39;00m move:\n",
      "\u001b[1;31mTypeError\u001b[0m: only integer scalar arrays can be converted to a scalar index"
     ]
    }
   ],
   "source": [
    "possibleMoves = {\n",
    "    1: [np.array([1])],\n",
    "    2: [np.array([2])],\n",
    "    3: [np.array([1,2]),np.array([3])],\n",
    "    4: [np.array([1,3]), np.array([4])],\n",
    "    5: [np.array([1,4]), np.array([2,3]), np.array([5])],\n",
    "    6: [np.array([1,5]), np.array([1,2,3]), np.array([2,4]), np.array([6])]\n",
    "}\n",
    "\n",
    "def getValidNextStates(currentState, diceRoll):\n",
    "    validMoves = []\n",
    "    for move in possibleMoves[diceRoll]:\n",
    "        if sum(currentState[move - 1]) == len(move):\n",
    "            validMove = currentState\n",
    "            for flipIdx in move:\n",
    "                validMove[flipIdx - 1] = 0\n",
    "            validMoves += validMove\n",
    "\n",
    "\n",
    "getValidNextStates([1, 1, 1, 1, 1, 1], 2)        \n",
    "# validMoves[2]\n",
    "    "
   ]
  },
  {
   "cell_type": "code",
   "execution_count": null,
   "metadata": {},
   "outputs": [],
   "source": [
    "probWinning_ds = map()\n",
    "\n",
    "def probWin(state):\n",
    "    if state not in probWinning_ds:\n",
    "        probWinGivenRoll = np.zeros(6,1)\n",
    "        for diceRoll in range(1,7):\n",
    "            nextStates = getValidNextState(currentState, i)\n",
    "            if nextStates is not Null:\n",
    "                nextStates = getValidNextStates(state)\n",
    "            \n",
    "            winProbs = [probWin(state) for state in nextStates]    \n",
    "            probWinGivenRoll[i-1] = max(winProbs)\n",
    "\n",
    "        probWinning_ds[state] = (1/6) * sum(probWinGivenRoll)\n",
    "\n",
    "    return probWinning_ds[state]\n",
    "\n",
    "\n",
    "\n",
    "\n",
    "    \n",
    "        \n",
    "\n",
    "        "
   ]
  }
 ],
 "metadata": {
  "kernelspec": {
   "display_name": "fiddlerEnv",
   "language": "python",
   "name": "python3"
  },
  "language_info": {
   "codemirror_mode": {
    "name": "ipython",
    "version": 3
   },
   "file_extension": ".py",
   "mimetype": "text/x-python",
   "name": "python",
   "nbconvert_exporter": "python",
   "pygments_lexer": "ipython3",
   "version": "3.12.2"
  }
 },
 "nbformat": 4,
 "nbformat_minor": 2
}
